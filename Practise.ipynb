{
 "cells": [
  {
   "cell_type": "code",
   "execution_count": 3,
   "id": "f7bdea6f",
   "metadata": {},
   "outputs": [],
   "source": [
    "a=5\n",
    "b=15"
   ]
  },
  {
   "cell_type": "code",
   "execution_count": 4,
   "id": "7149519c",
   "metadata": {},
   "outputs": [],
   "source": [
    "c=a+b"
   ]
  },
  {
   "cell_type": "code",
   "execution_count": 5,
   "id": "9a72d39a",
   "metadata": {},
   "outputs": [
    {
     "data": {
      "text/plain": [
       "20"
      ]
     },
     "execution_count": 5,
     "metadata": {},
     "output_type": "execute_result"
    }
   ],
   "source": [
    "c"
   ]
  },
  {
   "cell_type": "code",
   "execution_count": 6,
   "id": "e42022f0",
   "metadata": {},
   "outputs": [
    {
     "data": {
      "text/plain": [
       "80"
      ]
     },
     "execution_count": 6,
     "metadata": {},
     "output_type": "execute_result"
    }
   ],
   "source": [
    "c*4"
   ]
  },
  {
   "cell_type": "code",
   "execution_count": 7,
   "id": "3fe89753",
   "metadata": {},
   "outputs": [
    {
     "name": "stdout",
     "output_type": "stream",
     "text": [
      "80\n"
     ]
    }
   ],
   "source": [
    "print(c*4)"
   ]
  },
  {
   "cell_type": "code",
   "execution_count": 8,
   "id": "5ccef18e",
   "metadata": {},
   "outputs": [
    {
     "data": {
      "text/plain": [
       "100"
      ]
     },
     "execution_count": 8,
     "metadata": {},
     "output_type": "execute_result"
    }
   ],
   "source": [
    "c*5"
   ]
  },
  {
   "cell_type": "code",
   "execution_count": 9,
   "id": "07f220b6",
   "metadata": {},
   "outputs": [],
   "source": [
    "first_string='Python'\n",
    "second_string='is a powerful'\n",
    "third_string='Language'"
   ]
  },
  {
   "cell_type": "code",
   "execution_count": 10,
   "id": "48fdff6a",
   "metadata": {},
   "outputs": [
    {
     "data": {
      "text/plain": [
       "str"
      ]
     },
     "execution_count": 10,
     "metadata": {},
     "output_type": "execute_result"
    }
   ],
   "source": [
    "type('first_string')"
   ]
  },
  {
   "cell_type": "code",
   "execution_count": 12,
   "id": "c27e3d32",
   "metadata": {},
   "outputs": [
    {
     "name": "stdout",
     "output_type": "stream",
     "text": [
      "Python\n",
      "is a powerful\n",
      "Language\n"
     ]
    }
   ],
   "source": [
    "print(first_string)\n",
    "print(second_string)\n",
    "print(third_string)"
   ]
  },
  {
   "cell_type": "code",
   "execution_count": 13,
   "id": "c0bf2ddb",
   "metadata": {},
   "outputs": [
    {
     "name": "stdout",
     "output_type": "stream",
     "text": [
      "Python is a powerful Language\n"
     ]
    }
   ],
   "source": [
    "print(first_string,second_string,third_string)"
   ]
  },
  {
   "cell_type": "code",
   "execution_count": 14,
   "id": "3e5bfcb9",
   "metadata": {},
   "outputs": [],
   "source": [
    "new=first_string,second_string,third_string"
   ]
  },
  {
   "cell_type": "code",
   "execution_count": 15,
   "id": "795061e0",
   "metadata": {},
   "outputs": [
    {
     "data": {
      "text/plain": [
       "('Python', 'is a powerful', 'Language')"
      ]
     },
     "execution_count": 15,
     "metadata": {},
     "output_type": "execute_result"
    }
   ],
   "source": [
    "new"
   ]
  },
  {
   "cell_type": "code",
   "execution_count": 18,
   "id": "448d9465",
   "metadata": {},
   "outputs": [
    {
     "name": "stdout",
     "output_type": "stream",
     "text": [
      "Day Day Day Day Day \n"
     ]
    }
   ],
   "source": [
    "print('Day '*5)"
   ]
  },
  {
   "cell_type": "code",
   "execution_count": 22,
   "id": "30d9c107",
   "metadata": {},
   "outputs": [
    {
     "name": "stdout",
     "output_type": "stream",
     "text": [
      "********************************************************************************\n",
      "                         waoww python\n",
      "********************************************************************************\n"
     ]
    }
   ],
   "source": [
    "print('*'*80)\n",
    "print('                         waoww python')\n",
    "print('*'*80)"
   ]
  },
  {
   "cell_type": "code",
   "execution_count": 23,
   "id": "1c17b8b8",
   "metadata": {},
   "outputs": [
    {
     "data": {
      "text/plain": [
       "['a', 'b', 'c', 'd']"
      ]
     },
     "execution_count": 23,
     "metadata": {},
     "output_type": "execute_result"
    }
   ],
   "source": [
    "L=['a','b','c','d']\n",
    "L"
   ]
  },
  {
   "cell_type": "code",
   "execution_count": 24,
   "id": "ffa0d33d",
   "metadata": {},
   "outputs": [
    {
     "data": {
      "text/plain": [
       "list[['a', 'b', 'c', 'd']]"
      ]
     },
     "execution_count": 24,
     "metadata": {},
     "output_type": "execute_result"
    }
   ],
   "source": [
    "L2=list[L]\n",
    "L2"
   ]
  },
  {
   "cell_type": "code",
   "execution_count": 37,
   "id": "d87f8a34",
   "metadata": {},
   "outputs": [
    {
     "name": "stdout",
     "output_type": "stream",
     "text": [
      "['S', 'H', 'A', 'R', 'K']\n"
     ]
    }
   ],
   "source": [
    "x=list('SHARK')\n",
    "print(x)"
   ]
  },
  {
   "cell_type": "code",
   "execution_count": 38,
   "id": "94508c48",
   "metadata": {},
   "outputs": [
    {
     "data": {
      "text/plain": [
       "['1', '2', '3', '4', '5']"
      ]
     },
     "execution_count": 38,
     "metadata": {},
     "output_type": "execute_result"
    }
   ],
   "source": [
    "y=list('12345')\n",
    "y"
   ]
  },
  {
   "cell_type": "code",
   "execution_count": 2,
   "id": "344e0dd7",
   "metadata": {},
   "outputs": [
    {
     "data": {
      "text/plain": [
       "[]"
      ]
     },
     "execution_count": 2,
     "metadata": {},
     "output_type": "execute_result"
    }
   ],
   "source": [
    "employee=[]\n",
    "employee"
   ]
  },
  {
   "cell_type": "code",
   "execution_count": 3,
   "id": "086fb823",
   "metadata": {},
   "outputs": [
    {
     "name": "stdout",
     "output_type": "stream",
     "text": [
      "['Deepak']\n"
     ]
    }
   ],
   "source": [
    "employee.append('Deepak')\n",
    "print(employee)"
   ]
  },
  {
   "cell_type": "code",
   "execution_count": 4,
   "id": "4d9a58ad",
   "metadata": {},
   "outputs": [
    {
     "data": {
      "text/plain": [
       "['Deepak', 'Piyush']"
      ]
     },
     "execution_count": 4,
     "metadata": {},
     "output_type": "execute_result"
    }
   ],
   "source": [
    "employee.insert(1,'Piyush')\n",
    "employee"
   ]
  },
  {
   "cell_type": "code",
   "execution_count": 5,
   "id": "67678236",
   "metadata": {},
   "outputs": [
    {
     "data": {
      "text/plain": [
       "['Deepak', 'Piyush', 'Francis']"
      ]
     },
     "execution_count": 5,
     "metadata": {},
     "output_type": "execute_result"
    }
   ],
   "source": [
    "employee.insert(3,'Francis')\n",
    "employee"
   ]
  },
  {
   "cell_type": "code",
   "execution_count": 6,
   "id": "d8447157",
   "metadata": {},
   "outputs": [
    {
     "data": {
      "text/plain": [
       "[15000, 28000, 19000]"
      ]
     },
     "execution_count": 6,
     "metadata": {},
     "output_type": "execute_result"
    }
   ],
   "source": [
    "employee_salary=[15000,28000,19000]\n",
    "employee_salary"
   ]
  },
  {
   "cell_type": "code",
   "execution_count": 7,
   "id": "962a8450",
   "metadata": {},
   "outputs": [
    {
     "data": {
      "text/plain": [
       "[48000, 15000, 28000, 19000]"
      ]
     },
     "execution_count": 7,
     "metadata": {},
     "output_type": "execute_result"
    }
   ],
   "source": [
    "employee_salary.insert(0,48000)\n",
    "employee_salary"
   ]
  },
  {
   "cell_type": "code",
   "execution_count": 8,
   "id": "d4c6fa2f",
   "metadata": {},
   "outputs": [
    {
     "data": {
      "text/plain": [
       "4"
      ]
     },
     "execution_count": 8,
     "metadata": {},
     "output_type": "execute_result"
    }
   ],
   "source": [
    "len(employee_salary)"
   ]
  },
  {
   "cell_type": "code",
   "execution_count": 9,
   "id": "345746c2",
   "metadata": {},
   "outputs": [
    {
     "data": {
      "text/plain": [
       "['Rajesh', 'Piyush', 'Francis']"
      ]
     },
     "execution_count": 9,
     "metadata": {},
     "output_type": "execute_result"
    }
   ],
   "source": [
    "employee[0]='Rajesh'\n",
    "employee"
   ]
  },
  {
   "cell_type": "code",
   "execution_count": 10,
   "id": "58aa0415",
   "metadata": {},
   "outputs": [
    {
     "data": {
      "text/plain": [
       "['Rajesh', 'Piyush', 'Francis']"
      ]
     },
     "execution_count": 10,
     "metadata": {},
     "output_type": "execute_result"
    }
   ],
   "source": [
    "employee"
   ]
  },
  {
   "cell_type": "code",
   "execution_count": 11,
   "id": "1a67687a",
   "metadata": {},
   "outputs": [
    {
     "data": {
      "text/plain": [
       "[48000, 15000, 28000, 19000, 25000]"
      ]
     },
     "execution_count": 11,
     "metadata": {},
     "output_type": "execute_result"
    }
   ],
   "source": [
    "emp_salary=employee_salary+[25000]\n",
    "emp_salary"
   ]
  },
  {
   "cell_type": "code",
   "execution_count": 12,
   "id": "b0e6fe3f",
   "metadata": {},
   "outputs": [],
   "source": [
    "marks=[25,100,35,49,55,100,26,47,25,100]"
   ]
  },
  {
   "cell_type": "code",
   "execution_count": 13,
   "id": "f8cd7b27",
   "metadata": {},
   "outputs": [
    {
     "data": {
      "text/plain": [
       "2"
      ]
     },
     "execution_count": 13,
     "metadata": {},
     "output_type": "execute_result"
    }
   ],
   "source": [
    "marks.count(25)"
   ]
  },
  {
   "cell_type": "code",
   "execution_count": 15,
   "id": "96e8220d",
   "metadata": {},
   "outputs": [
    {
     "ename": "IndexError",
     "evalue": "list assignment index out of range",
     "output_type": "error",
     "traceback": [
      "\u001b[1;31m---------------------------------------------------------------------------\u001b[0m",
      "\u001b[1;31mIndexError\u001b[0m                                Traceback (most recent call last)",
      "Cell \u001b[1;32mIn[15], line 1\u001b[0m\n\u001b[1;32m----> 1\u001b[0m employee[\u001b[38;5;241m11\u001b[39m]\u001b[38;5;241m=\u001b[39m\u001b[38;5;124m'\u001b[39m\u001b[38;5;124mFarhaan\u001b[39m\u001b[38;5;124m'\u001b[39m\n\u001b[0;32m      2\u001b[0m employee\n",
      "\u001b[1;31mIndexError\u001b[0m: list assignment index out of range"
     ]
    }
   ],
   "source": [
    "employee[11]='Farhaan'\n",
    "employee"
   ]
  },
  {
   "cell_type": "code",
   "execution_count": 75,
   "id": "d702e3a5",
   "metadata": {},
   "outputs": [
    {
     "data": {
      "text/plain": [
       "'Piyush'"
      ]
     },
     "execution_count": 75,
     "metadata": {},
     "output_type": "execute_result"
    }
   ],
   "source": [
    "employee.pop(1)"
   ]
  },
  {
   "cell_type": "code",
   "execution_count": 76,
   "id": "8f22d926",
   "metadata": {},
   "outputs": [
    {
     "data": {
      "text/plain": [
       "['Rajesh', 'Radha', 'Francis', 'salman', 'Deepak', 'Anuv', 'Sapna', 'Paras']"
      ]
     },
     "execution_count": 76,
     "metadata": {},
     "output_type": "execute_result"
    }
   ],
   "source": [
    "employee"
   ]
  },
  {
   "cell_type": "code",
   "execution_count": 80,
   "id": "53fd7e1b",
   "metadata": {},
   "outputs": [],
   "source": [
    "marks.remove(100)"
   ]
  },
  {
   "cell_type": "code",
   "execution_count": 83,
   "id": "f78cc108",
   "metadata": {},
   "outputs": [
    {
     "data": {
      "text/plain": [
       "[25, 26, 35, 47, 49, 55, 100, 100]"
      ]
     },
     "execution_count": 83,
     "metadata": {},
     "output_type": "execute_result"
    }
   ],
   "source": [
    "marks"
   ]
  },
  {
   "cell_type": "code",
   "execution_count": 85,
   "id": "3a3ae129",
   "metadata": {},
   "outputs": [],
   "source": [
    "work_location=('Bangluru','Delhi','Mumbai','Hyderabad')"
   ]
  },
  {
   "cell_type": "code",
   "execution_count": 86,
   "id": "8e5ad845",
   "metadata": {},
   "outputs": [
    {
     "data": {
      "text/plain": [
       "tuple"
      ]
     },
     "execution_count": 86,
     "metadata": {},
     "output_type": "execute_result"
    }
   ],
   "source": [
    "type(work_location)"
   ]
  },
  {
   "cell_type": "code",
   "execution_count": 87,
   "id": "712624ad",
   "metadata": {},
   "outputs": [],
   "source": [
    "work_location=list(work_location)"
   ]
  },
  {
   "cell_type": "code",
   "execution_count": 88,
   "id": "1c6dd466",
   "metadata": {},
   "outputs": [
    {
     "data": {
      "text/plain": [
       "list"
      ]
     },
     "execution_count": 88,
     "metadata": {},
     "output_type": "execute_result"
    }
   ],
   "source": [
    "type(work_location)"
   ]
  },
  {
   "cell_type": "code",
   "execution_count": 89,
   "id": "74b55e2f",
   "metadata": {},
   "outputs": [
    {
     "data": {
      "text/plain": [
       "['Bangluru', 'Delhi', 'Mumbai', 'Hyderabad', 'Pune']"
      ]
     },
     "execution_count": 89,
     "metadata": {},
     "output_type": "execute_result"
    }
   ],
   "source": [
    "work_location.append('Pune')\n",
    "work_location"
   ]
  },
  {
   "cell_type": "code",
   "execution_count": 90,
   "id": "14b44548",
   "metadata": {},
   "outputs": [
    {
     "data": {
      "text/plain": [
       "['Kolkata', 'Delhi', 'Mumbai', 'Hyderabad', 'Pune']"
      ]
     },
     "execution_count": 90,
     "metadata": {},
     "output_type": "execute_result"
    }
   ],
   "source": [
    "work_location[0]='Kolkata'\n",
    "work_location"
   ]
  },
  {
   "cell_type": "code",
   "execution_count": 91,
   "id": "b55c2049",
   "metadata": {},
   "outputs": [],
   "source": [
    "work_location=tuple(work_location)"
   ]
  },
  {
   "cell_type": "code",
   "execution_count": 93,
   "id": "246b2f7b",
   "metadata": {},
   "outputs": [
    {
     "data": {
      "text/plain": [
       "tuple"
      ]
     },
     "execution_count": 93,
     "metadata": {},
     "output_type": "execute_result"
    }
   ],
   "source": [
    "type(work_location)"
   ]
  },
  {
   "cell_type": "code",
   "execution_count": 94,
   "id": "d871e78d",
   "metadata": {},
   "outputs": [
    {
     "data": {
      "text/plain": [
       "set"
      ]
     },
     "execution_count": 94,
     "metadata": {},
     "output_type": "execute_result"
    }
   ],
   "source": [
    "roll_numbers=set()\n",
    "type(roll_numbers)"
   ]
  },
  {
   "cell_type": "code",
   "execution_count": 97,
   "id": "b7d86f91",
   "metadata": {},
   "outputs": [
    {
     "data": {
      "text/plain": [
       "{1, 2, 3}"
      ]
     },
     "execution_count": 97,
     "metadata": {},
     "output_type": "execute_result"
    }
   ],
   "source": [
    "roll_numbers.add(3)\n",
    "roll_numbers"
   ]
  },
  {
   "cell_type": "code",
   "execution_count": 98,
   "id": "cd1ae46d",
   "metadata": {},
   "outputs": [],
   "source": [
    "dup_remove=[8,5,6,9,1,1,2,2,3,4,5,6,1,1,7,7]"
   ]
  },
  {
   "cell_type": "code",
   "execution_count": 101,
   "id": "da658f53",
   "metadata": {},
   "outputs": [
    {
     "data": {
      "text/plain": [
       "{1, 2, 3, 4, 5, 6, 7, 8, 9}"
      ]
     },
     "execution_count": 101,
     "metadata": {},
     "output_type": "execute_result"
    }
   ],
   "source": [
    "dup_remove=set(dup_remove)\n",
    "dup_remove"
   ]
  },
  {
   "cell_type": "code",
   "execution_count": 1,
   "id": "727a16a5",
   "metadata": {},
   "outputs": [
    {
     "data": {
      "text/plain": [
       "{'key1': 'value', 'key2': 'value2'}"
      ]
     },
     "execution_count": 1,
     "metadata": {},
     "output_type": "execute_result"
    }
   ],
   "source": [
    "my_dict={'key1':'value','key2':'value2'}\n",
    "my_dict"
   ]
  },
  {
   "cell_type": "code",
   "execution_count": 2,
   "id": "923c60f4",
   "metadata": {},
   "outputs": [
    {
     "data": {
      "text/plain": [
       "'value2'"
      ]
     },
     "execution_count": 2,
     "metadata": {},
     "output_type": "execute_result"
    }
   ],
   "source": [
    "my_dict ['key2']"
   ]
  },
  {
   "cell_type": "code",
   "execution_count": 4,
   "id": "1e267750",
   "metadata": {},
   "outputs": [],
   "source": [
    "my_dic={'Roll_number':123,'Marks':[12,13,23],'Subject':['computer','Science','Maths']}"
   ]
  },
  {
   "cell_type": "code",
   "execution_count": 5,
   "id": "3086d962",
   "metadata": {},
   "outputs": [
    {
     "data": {
      "text/plain": [
       "['computer', 'Science', 'Maths']"
      ]
     },
     "execution_count": 5,
     "metadata": {},
     "output_type": "execute_result"
    }
   ],
   "source": [
    "my_dic ['Subject']"
   ]
  },
  {
   "cell_type": "code",
   "execution_count": 6,
   "id": "ae74052c",
   "metadata": {},
   "outputs": [
    {
     "data": {
      "text/plain": [
       "'Science'"
      ]
     },
     "execution_count": 6,
     "metadata": {},
     "output_type": "execute_result"
    }
   ],
   "source": [
    "my_dic['Subject'][1]"
   ]
  },
  {
   "cell_type": "code",
   "execution_count": 7,
   "id": "b7dfba59",
   "metadata": {},
   "outputs": [],
   "source": [
    "my_dic['Marks'][0]=my_dic['Marks'][0]+30"
   ]
  },
  {
   "cell_type": "code",
   "execution_count": 8,
   "id": "772c1f8b",
   "metadata": {},
   "outputs": [
    {
     "data": {
      "text/plain": [
       "[42, 13, 23]"
      ]
     },
     "execution_count": 8,
     "metadata": {},
     "output_type": "execute_result"
    }
   ],
   "source": [
    "my_dic['Marks']"
   ]
  },
  {
   "cell_type": "code",
   "execution_count": 9,
   "id": "476f4f40",
   "metadata": {},
   "outputs": [],
   "source": [
    "my_dic['Marks'][2]+=20"
   ]
  },
  {
   "cell_type": "code",
   "execution_count": 10,
   "id": "b7390d5a",
   "metadata": {},
   "outputs": [
    {
     "data": {
      "text/plain": [
       "[42, 13, 43]"
      ]
     },
     "execution_count": 10,
     "metadata": {},
     "output_type": "execute_result"
    }
   ],
   "source": [
    "my_dic['Marks']"
   ]
  },
  {
   "cell_type": "code",
   "execution_count": 11,
   "id": "d14d4dde",
   "metadata": {},
   "outputs": [],
   "source": [
    "my_dic['year']='3rd'"
   ]
  },
  {
   "cell_type": "code",
   "execution_count": 12,
   "id": "5aa16473",
   "metadata": {},
   "outputs": [
    {
     "data": {
      "text/plain": [
       "{'Roll_number': 123,\n",
       " 'Marks': [42, 13, 43],\n",
       " 'Subject': ['computer', 'Science', 'Maths'],\n",
       " 'year': '3rd'}"
      ]
     },
     "execution_count": 12,
     "metadata": {},
     "output_type": "execute_result"
    }
   ],
   "source": [
    "my_dic"
   ]
  },
  {
   "cell_type": "code",
   "execution_count": 13,
   "id": "9ac520aa",
   "metadata": {},
   "outputs": [
    {
     "data": {
      "text/plain": [
       "dict_keys(['Roll_number', 'Marks', 'Subject', 'year'])"
      ]
     },
     "execution_count": 13,
     "metadata": {},
     "output_type": "execute_result"
    }
   ],
   "source": [
    "my_dic.keys()"
   ]
  },
  {
   "cell_type": "code",
   "execution_count": 15,
   "id": "f84ee5f3",
   "metadata": {},
   "outputs": [
    {
     "data": {
      "text/plain": [
       "dict_values([123, [42, 13, 43], ['computer', 'Science', 'Maths'], '3rd'])"
      ]
     },
     "execution_count": 15,
     "metadata": {},
     "output_type": "execute_result"
    }
   ],
   "source": [
    "my_dic.values()"
   ]
  },
  {
   "cell_type": "code",
   "execution_count": 16,
   "id": "ce3b69f0",
   "metadata": {},
   "outputs": [
    {
     "name": "stdout",
     "output_type": "stream",
     "text": [
      "It is less then 10\n"
     ]
    }
   ],
   "source": [
    "i=5\n",
    "if i<10:\n",
    "    print('It is less then 10')\n",
    "else: \n",
    "    print('it is something else')"
   ]
  },
  {
   "cell_type": "code",
   "execution_count": 17,
   "id": "784e2ad4",
   "metadata": {},
   "outputs": [
    {
     "name": "stdout",
     "output_type": "stream",
     "text": [
      "It is less than 10\n"
     ]
    }
   ],
   "source": [
    "print('It is less than 10') if i<10 else print ('It is something else')"
   ]
  },
  {
   "cell_type": "code",
   "execution_count": 20,
   "id": "ca9f47ab",
   "metadata": {},
   "outputs": [],
   "source": [
    "item_1=250\n",
    "item_2=250"
   ]
  },
  {
   "cell_type": "code",
   "execution_count": 21,
   "id": "e2a0d4eb",
   "metadata": {},
   "outputs": [
    {
     "name": "stdout",
     "output_type": "stream",
     "text": [
      "Your items are eligible for free shipping\n"
     ]
    }
   ],
   "source": [
    "if (item_1+item_2)>=500:\n",
    "    print(\"Your items are eligible for free shipping\")\n",
    "else:\n",
    "    extra=500-(item_1+item_2)\n",
    "    print('Please add',extra,'Rs worth of an item for free shipping')"
   ]
  },
  {
   "cell_type": "code",
   "execution_count": 28,
   "id": "abc78814",
   "metadata": {},
   "outputs": [],
   "source": [
    "a=200\n",
    "b=33\n",
    "c=500"
   ]
  },
  {
   "cell_type": "code",
   "execution_count": 29,
   "id": "73001852",
   "metadata": {},
   "outputs": [
    {
     "name": "stdout",
     "output_type": "stream",
     "text": [
      "Both are not true\n"
     ]
    }
   ],
   "source": [
    "if a>b and c<a:\n",
    "    print(\"Both conditions are true\")\n",
    "else:\n",
    "    print('Both are not true')"
   ]
  },
  {
   "cell_type": "code",
   "execution_count": 30,
   "id": "e00da5ee",
   "metadata": {},
   "outputs": [
    {
     "name": "stdout",
     "output_type": "stream",
     "text": [
      "At least one of the conditions is true\n"
     ]
    }
   ],
   "source": [
    "if a>b or c<a:\n",
    "    print(\"At least one of the conditions is true\")\n",
    "else:\n",
    "    print('Both are not true')"
   ]
  },
  {
   "cell_type": "code",
   "execution_count": 42,
   "id": "41a6497f",
   "metadata": {},
   "outputs": [],
   "source": [
    "marks=34"
   ]
  },
  {
   "cell_type": "code",
   "execution_count": 43,
   "id": "d1102b39",
   "metadata": {},
   "outputs": [
    {
     "name": "stdout",
     "output_type": "stream",
     "text": [
      "34 -Fail-Better luck next time\n"
     ]
    }
   ],
   "source": [
    "if marks>=60:\n",
    "    if marks>=70:\n",
    "        print(marks,'-Distinction')\n",
    "    else:\n",
    "        print(marks,'-First class')\n",
    "elif marks >=50 and marks <60:\n",
    "    print(marks,'-second class')\n",
    "elif marks >=35:\n",
    "    print(marks,'-Pass')\n",
    "else:\n",
    "    print(marks,'-Fail-Better luck next time')"
   ]
  },
  {
   "cell_type": "code",
   "execution_count": 44,
   "id": "387362e5",
   "metadata": {},
   "outputs": [],
   "source": [
    "num1=20\n",
    "num2=30"
   ]
  },
  {
   "cell_type": "code",
   "execution_count": 46,
   "id": "65b4bde0",
   "metadata": {},
   "outputs": [
    {
     "name": "stdout",
     "output_type": "stream",
     "text": [
      "B\n"
     ]
    }
   ],
   "source": [
    "if num1=='20':\n",
    "    print('A')\n",
    "elif num2>25:\n",
    "    print('B')\n",
    "else:\n",
    "    print('C')"
   ]
  },
  {
   "cell_type": "code",
   "execution_count": 48,
   "id": "b106aa60",
   "metadata": {},
   "outputs": [
    {
     "name": "stdout",
     "output_type": "stream",
     "text": [
      "range(0, 100)\n"
     ]
    }
   ],
   "source": [
    "print(range(100))"
   ]
  },
  {
   "cell_type": "code",
   "execution_count": 52,
   "id": "9e7b08c9",
   "metadata": {},
   "outputs": [
    {
     "name": "stdout",
     "output_type": "stream",
     "text": [
      "[0, 2, 4, 6, 8, 10, 12, 14, 16, 18, 20]\n"
     ]
    }
   ],
   "source": [
    "print (list(range(0,21,2)))"
   ]
  },
  {
   "cell_type": "code",
   "execution_count": 50,
   "id": "23e11232",
   "metadata": {},
   "outputs": [
    {
     "data": {
      "text/plain": [
       "[0, 3, 6, 9, 12, 15, 18, 21, 24, 27, 30]"
      ]
     },
     "execution_count": 50,
     "metadata": {},
     "output_type": "execute_result"
    }
   ],
   "source": [
    "step_size=list(range(0,31,3))\n",
    "step_size"
   ]
  },
  {
   "cell_type": "code",
   "execution_count": 56,
   "id": "b914dc3b",
   "metadata": {},
   "outputs": [
    {
     "data": {
      "text/plain": [
       "[100, 90, 80, 70, 60, 50, 40, 30, 20, 10, 0]"
      ]
     },
     "execution_count": 56,
     "metadata": {},
     "output_type": "execute_result"
    }
   ],
   "source": [
    "reverse=list(range(100,-1,-10))\n",
    "reverse"
   ]
  },
  {
   "cell_type": "code",
   "execution_count": 57,
   "id": "02cc699a",
   "metadata": {},
   "outputs": [
    {
     "name": "stdout",
     "output_type": "stream",
     "text": [
      "['Bangaluru', 'Noida', 'Delhi', 'Chennai', 'Hyderabad']\n"
     ]
    }
   ],
   "source": [
    "#loops for and while loops\n",
    "location=['Bangaluru','Noida','Delhi','Chennai','Hyderabad']\n",
    "print (location)"
   ]
  },
  {
   "cell_type": "code",
   "execution_count": 58,
   "id": "fa2a7105",
   "metadata": {},
   "outputs": [
    {
     "name": "stdout",
     "output_type": "stream",
     "text": [
      "Bengaluru\n",
      "Noida\n",
      "Chennai\n",
      "Hyderabad\n",
      "Delhi\n"
     ]
    }
   ],
   "source": [
    "#list for string\n",
    "location=['Bengaluru','Noida','Chennai','Hyderabad','Delhi']\n",
    "for city in location:\n",
    "    print(city)"
   ]
  },
  {
   "cell_type": "code",
   "execution_count": 59,
   "id": "581b77f7",
   "metadata": {},
   "outputs": [
    {
     "name": "stdout",
     "output_type": "stream",
     "text": [
      "7000\n",
      "8000\n"
     ]
    }
   ],
   "source": [
    "salary=[2000,4000,5000,7000,8000,4500,3800]\n",
    "for val in salary:\n",
    "    if val>5500:\n",
    "        print (val)"
   ]
  },
  {
   "cell_type": "code",
   "execution_count": 61,
   "id": "2a123903",
   "metadata": {},
   "outputs": [
    {
     "name": "stdout",
     "output_type": "stream",
     "text": [
      "[7000, 8000, 7000]\n",
      "[7000, 8000, 7000, 8000]\n"
     ]
    }
   ],
   "source": [
    "for val in salary:\n",
    "    if val>5500:\n",
    "        sal.append(val)\n",
    "        print(sal)\n",
    "        "
   ]
  },
  {
   "cell_type": "code",
   "execution_count": 62,
   "id": "2d7c561c",
   "metadata": {},
   "outputs": [
    {
     "data": {
      "text/plain": [
       "[7000, 8000]"
      ]
     },
     "execution_count": 62,
     "metadata": {},
     "output_type": "execute_result"
    }
   ],
   "source": [
    "salary=[2000,4000,5000,7000,8000,4500,3800]\n",
    "sal=[val for val in salary if val>5500]\n",
    "sal"
   ]
  },
  {
   "cell_type": "code",
   "execution_count": 64,
   "id": "3f97463e",
   "metadata": {},
   "outputs": [
    {
     "name": "stdout",
     "output_type": "stream",
     "text": [
      "Multiplication table for- 2\n",
      "2\n",
      "4\n",
      "6\n",
      "8\n",
      "10\n",
      "12\n",
      "14\n",
      "16\n",
      "18\n",
      "20\n",
      "\n",
      "\n",
      "Multiplication table for- 3\n",
      "3\n",
      "6\n",
      "9\n",
      "12\n",
      "15\n",
      "18\n",
      "21\n",
      "24\n",
      "27\n",
      "30\n",
      "\n",
      "\n",
      "Multiplication table for- 4\n",
      "4\n",
      "8\n",
      "12\n",
      "16\n",
      "20\n",
      "24\n",
      "28\n",
      "32\n",
      "36\n",
      "40\n",
      "\n",
      "\n",
      "******************************\n",
      "End of multiplication table\n",
      "******************************\n"
     ]
    }
   ],
   "source": [
    "#for loop with else\n",
    "for num in range (2,5):\n",
    "    print('Multiplication table for-',num)\n",
    "    for i in range(1,11):\n",
    "        print(num*i)\n",
    "        if i ==10:\n",
    "            print('\\n')\n",
    "else:\n",
    "    print('*'*30)\n",
    "    print('End of multiplication table')\n",
    "    print('*'*30)"
   ]
  },
  {
   "cell_type": "code",
   "execution_count": 3,
   "id": "0526097b",
   "metadata": {},
   "outputs": [
    {
     "name": "stdout",
     "output_type": "stream",
     "text": [
      "1 Jesus is Saviour\n",
      "2 Jesus is Saviour\n",
      "3 Jesus is Saviour\n",
      "4 Jesus is Saviour\n",
      "5 Jesus is Saviour\n",
      "6 Jesus is Saviour\n",
      "7 Jesus is Saviour\n",
      "8 Jesus is Saviour\n",
      "9 Jesus is Saviour\n",
      "10 Jesus is Saviour\n"
     ]
    }
   ],
   "source": [
    "count=0\n",
    "while count < 10:\n",
    "    count=count+1\n",
    "    print(count,'Jesus is Saviour')"
   ]
  },
  {
   "cell_type": "code",
   "execution_count": 3,
   "id": "eda6b108",
   "metadata": {},
   "outputs": [
    {
     "name": "stdout",
     "output_type": "stream",
     "text": [
      "time.struct_time(tm_year=2024, tm_mon=10, tm_mday=14, tm_hour=17, tm_min=12, tm_sec=9, tm_wday=0, tm_yday=288, tm_isdst=0)\n"
     ]
    }
   ],
   "source": [
    "import time\n",
    "result=time.localtime()\n",
    "print(result)"
   ]
  },
  {
   "cell_type": "code",
   "execution_count": 4,
   "id": "5cb8c7f6",
   "metadata": {},
   "outputs": [],
   "source": [
    "while True:\n",
    "    result=time.localtime()\n",
    "    if result.tm_mday==14 and result.tm_hour==17 and result.tm_min==13:\n",
    "        print('Wake up call')\n",
    "    break"
   ]
  },
  {
   "cell_type": "code",
   "execution_count": 6,
   "id": "292372f2",
   "metadata": {},
   "outputs": [
    {
     "name": "stdout",
     "output_type": "stream",
     "text": [
      "1 Paras Massey\n",
      "2 Paras Massey\n",
      "3 Paras Massey\n",
      "4 Paras Massey\n",
      "5 Paras Massey\n",
      "6 Paras Massey\n",
      "7 Paras Massey\n",
      "8 Paras Massey\n",
      "9 Paras Massey\n",
      "10 Paras Massey\n"
     ]
    }
   ],
   "source": [
    "count=0\n",
    "while count<10:\n",
    "    count=count+1\n",
    "    print(count,'Paras Massey')"
   ]
  },
  {
   "cell_type": "code",
   "execution_count": 7,
   "id": "c9d9a7ab",
   "metadata": {},
   "outputs": [
    {
     "name": "stdout",
     "output_type": "stream",
     "text": [
      "time.struct_time(tm_year=2024, tm_mon=10, tm_mday=14, tm_hour=17, tm_min=17, tm_sec=12, tm_wday=0, tm_yday=288, tm_isdst=0)\n"
     ]
    }
   ],
   "source": [
    "import time\n",
    "result=time.localtime()\n",
    "print(result)"
   ]
  },
  {
   "cell_type": "code",
   "execution_count": 1,
   "id": "f78f3da2",
   "metadata": {},
   "outputs": [
    {
     "name": "stdout",
     "output_type": "stream",
     "text": [
      "time.struct_time(tm_year=2024, tm_mon=9, tm_mday=8, tm_hour=12, tm_min=54, tm_sec=38, tm_wday=6, tm_yday=252, tm_isdst=0)\n"
     ]
    }
   ],
   "source": [
    "import time\n",
    "result=time.localtime()\n",
    "print(result)"
   ]
  },
  {
   "cell_type": "code",
   "execution_count": 3,
   "id": "375b4b05",
   "metadata": {},
   "outputs": [
    {
     "name": "stdout",
     "output_type": "stream",
     "text": [
      "1 Paras massey\n",
      "2 Paras massey\n",
      "3 Paras massey\n",
      "4 Paras massey\n",
      "5 Paras massey\n"
     ]
    }
   ],
   "source": [
    "count=0\n",
    "while count<5:\n",
    "    count=count+1\n",
    "    print(count,'Paras massey')"
   ]
  },
  {
   "cell_type": "code",
   "execution_count": 8,
   "id": "aecf4290",
   "metadata": {},
   "outputs": [
    {
     "name": "stdout",
     "output_type": "stream",
     "text": [
      "Wake up bro\n"
     ]
    }
   ],
   "source": [
    "while True:\n",
    "    result=time.localtime()\n",
    "    if result.tm_hour==17 and result.tm_min==18:\n",
    "        print('Wake up bro')\n",
    "        break"
   ]
  },
  {
   "cell_type": "code",
   "execution_count": 9,
   "id": "47aabdf5",
   "metadata": {},
   "outputs": [
    {
     "name": "stdout",
     "output_type": "stream",
     "text": [
      "time.struct_time(tm_year=2024, tm_mon=10, tm_mday=14, tm_hour=17, tm_min=18, tm_sec=5, tm_wday=0, tm_yday=288, tm_isdst=0)\n"
     ]
    }
   ],
   "source": [
    "import time\n",
    "result=time.localtime()\n",
    "print(result)"
   ]
  },
  {
   "cell_type": "code",
   "execution_count": 10,
   "id": "11da0dd5",
   "metadata": {},
   "outputs": [
    {
     "name": "stdout",
     "output_type": "stream",
     "text": [
      "(0, 'Naveen')\n",
      "(1, 'Rathna')\n",
      "(2, 'Vivan')\n",
      "(3, 'Shridhar')\n",
      "(4, 'Piyush')\n"
     ]
    }
   ],
   "source": [
    "students=['Naveen','Rathna','Vivan','Shridhar','Piyush']\n",
    "\n",
    "for name in enumerate(students):\n",
    "    print(name)"
   ]
  },
  {
   "cell_type": "code",
   "execution_count": 11,
   "id": "638833b7",
   "metadata": {},
   "outputs": [
    {
     "name": "stdout",
     "output_type": "stream",
     "text": [
      "(100, 'Naveen')\n",
      "(101, 'Rathna')\n",
      "(102, 'Vivan')\n",
      "(103, 'Shridhar')\n",
      "(104, 'Piyush')\n"
     ]
    }
   ],
   "source": [
    "for name in enumerate (students,100):\n",
    "    print(name)"
   ]
  },
  {
   "cell_type": "code",
   "execution_count": 14,
   "id": "eac95a0f",
   "metadata": {},
   "outputs": [
    {
     "name": "stdout",
     "output_type": "stream",
     "text": [
      "(1, 'Shivam')\n",
      "(2, 'Harshit')\n",
      "(3, 'Farhaan')\n",
      "(4, 'Deepak')\n",
      "(5, 'Pankaj')\n",
      "(6, 'Dinesh')\n",
      "(7, 'Akash')\n",
      "(8, 'vivek')\n",
      "(9, 'Suraj')\n",
      "(10, 'Mohit')\n"
     ]
    }
   ],
   "source": [
    "clients=['Shivam','Harshit','Farhaan','Deepak','Pankaj','Dinesh','Akash','vivek','Suraj','Mohit']\n",
    "\n",
    "for name in enumerate(clients,1):\n",
    "    print(name)"
   ]
  },
  {
   "cell_type": "code",
   "execution_count": 15,
   "id": "d863d439",
   "metadata": {},
   "outputs": [
    {
     "name": "stdout",
     "output_type": "stream",
     "text": [
      "time.struct_time(tm_year=2024, tm_mon=9, tm_mday=8, tm_hour=13, tm_min=18, tm_sec=12, tm_wday=6, tm_yday=252, tm_isdst=0)\n"
     ]
    }
   ],
   "source": [
    "import time\n",
    "result=time.localtime()\n",
    "print(result)"
   ]
  },
  {
   "cell_type": "code",
   "execution_count": 12,
   "id": "2740681b",
   "metadata": {},
   "outputs": [
    {
     "data": {
      "text/plain": [
       "[('Naveen', 55, 21, 'Delhi'),\n",
       " ('Rathna', 74, 19, 'Noida'),\n",
       " ('vivan', 62, 20, 'Gurugram'),\n",
       " ('Shridhar', 81, 23, 'Faridabad'),\n",
       " ('Piyush', 55, 18, 'Delhi'),\n",
       " ('Aditya', 86, 22, 'Ghaziyabad')]"
      ]
     },
     "execution_count": 12,
     "metadata": {},
     "output_type": "execute_result"
    }
   ],
   "source": [
    "students_name=['Naveen','Rathna','vivan','Shridhar','Piyush','Aditya']\n",
    "students_marks=[55,74,62,81,55,86]\n",
    "students_age=[21,19,20,23,18,22]\n",
    "students_city=['Delhi','Noida','Gurugram','Faridabad','Delhi','Ghaziyabad']\n",
    "\n",
    "students_detail=list(zip(students_name,students_marks,students_age,students_city))\n",
    "students_detail"
   ]
  },
  {
   "cell_type": "code",
   "execution_count": 13,
   "id": "70cc6e3a",
   "metadata": {},
   "outputs": [],
   "source": [
    "name,marks_num,age,city=zip(*students_detail)"
   ]
  },
  {
   "cell_type": "code",
   "execution_count": 8,
   "id": "5a179a8b",
   "metadata": {},
   "outputs": [
    {
     "name": "stdout",
     "output_type": "stream",
     "text": [
      "Bangaluru\n",
      "Delhi\n",
      "Noida\n"
     ]
    }
   ],
   "source": [
    "#Break and continue statement (loop)\n",
    "#use of break statement inside loop\n",
    "\n",
    "city=['Bangaluru','Delhi','Noida','Hyderabad','Mumbai']\n",
    "for val in city:\n",
    "    if val=='Hyderabad':\n",
    "        break\n",
    "    print(val)"
   ]
  },
  {
   "cell_type": "code",
   "execution_count": 9,
   "id": "54ef4179",
   "metadata": {},
   "outputs": [
    {
     "name": "stdout",
     "output_type": "stream",
     "text": [
      "Bangaluru\n",
      "Delhi\n",
      "Noida\n",
      "Mumbai\n"
     ]
    }
   ],
   "source": [
    "#continue loop\n",
    "\n",
    "city=['Bangaluru','Delhi','Noida','Hyderabad','Mumbai']\n",
    "\n",
    "for pan in city:\n",
    "    if pan=='Hyderabad':\n",
    "        continue\n",
    "    print(pan)"
   ]
  },
  {
   "cell_type": "code",
   "execution_count": 17,
   "id": "c6698fc7",
   "metadata": {},
   "outputs": [],
   "source": [
    "def say_hello():\n",
    "    print('This is just a sample')"
   ]
  },
  {
   "cell_type": "code",
   "execution_count": 18,
   "id": "5ad1f900",
   "metadata": {},
   "outputs": [
    {
     "name": "stdout",
     "output_type": "stream",
     "text": [
      "This is just a sample\n"
     ]
    }
   ],
   "source": [
    "say_hello()"
   ]
  },
  {
   "cell_type": "code",
   "execution_count": 19,
   "id": "ebf54bfc",
   "metadata": {},
   "outputs": [],
   "source": [
    "def greeting(name):\n",
    "    print('Hello',name)"
   ]
  },
  {
   "cell_type": "code",
   "execution_count": 13,
   "id": "d3f64040",
   "metadata": {},
   "outputs": [
    {
     "name": "stdout",
     "output_type": "stream",
     "text": [
      "Hello Paras\n"
     ]
    }
   ],
   "source": [
    "greeting('Paras')"
   ]
  },
  {
   "cell_type": "code",
   "execution_count": 24,
   "id": "90854720",
   "metadata": {},
   "outputs": [
    {
     "name": "stdout",
     "output_type": "stream",
     "text": [
      "Your new salary = None\n"
     ]
    }
   ],
   "source": [
    "def sal_inc (fixed_sal,house_rent):\n",
    "    total_sal=(fixed_sal+house_rent)\n",
    "    \n",
    "    if total_sal <=9000:\n",
    "        total_sal+1000\n",
    "    else:\n",
    "        total_sal\n",
    "print('Your new salary =',sal_inc(6500,2000))"
   ]
  },
  {
   "cell_type": "code",
   "execution_count": 25,
   "id": "eff9b8fd",
   "metadata": {},
   "outputs": [],
   "source": [
    "def sal_inc(fixed_sal,house_rent):\n",
    "    total_sal=(fixed_sal+house_rent)\n",
    "    \n",
    "    if total_sal <=9000:\n",
    "        return total_sal+1000\n",
    "    else:\n",
    "        return total_sal"
   ]
  },
  {
   "cell_type": "code",
   "execution_count": 26,
   "id": "fa71f356",
   "metadata": {},
   "outputs": [
    {
     "name": "stdout",
     "output_type": "stream",
     "text": [
      "Your new salary = 9500\n"
     ]
    }
   ],
   "source": [
    "print('Your new salary =',sal_inc(6500,2000))"
   ]
  },
  {
   "cell_type": "code",
   "execution_count": 1,
   "id": "c281c436",
   "metadata": {},
   "outputs": [
    {
     "name": "stdout",
     "output_type": "stream",
     "text": [
      "80\n"
     ]
    }
   ],
   "source": [
    "#lambda function\n",
    "add_num=lambda y:y+30\n",
    "print(add_num(50))"
   ]
  },
  {
   "cell_type": "code",
   "execution_count": 2,
   "id": "eeab422f",
   "metadata": {},
   "outputs": [
    {
     "name": "stdout",
     "output_type": "stream",
     "text": [
      "300\n"
     ]
    }
   ],
   "source": [
    "multi_num=lambda a,b:a*b\n",
    "print(multi_num(15,20))"
   ]
  },
  {
   "cell_type": "code",
   "execution_count": 5,
   "id": "2ede6b9b",
   "metadata": {},
   "outputs": [],
   "source": [
    "#args and kwargs\n",
    "def my_fun (*args):\n",
    "    for i in args:\n",
    "        print('My args:-',i)"
   ]
  },
  {
   "cell_type": "code",
   "execution_count": 6,
   "id": "853df5f2",
   "metadata": {},
   "outputs": [
    {
     "name": "stdout",
     "output_type": "stream",
     "text": [
      "My args:- India\n",
      "My args:- Kerela\n",
      "My args:- Delhi\n",
      "My args:- 550345\n"
     ]
    }
   ],
   "source": [
    "my_fun('India','Kerela','Delhi',550345)"
   ]
  },
  {
   "cell_type": "code",
   "execution_count": 7,
   "id": "58616ac6",
   "metadata": {},
   "outputs": [],
   "source": [
    "def my_kwargs(**kwargs):\n",
    "    for key,value in kwargs.items():\n",
    "        print(key,'=',value)"
   ]
  },
  {
   "cell_type": "code",
   "execution_count": 9,
   "id": "8feff514",
   "metadata": {},
   "outputs": [
    {
     "name": "stdout",
     "output_type": "stream",
     "text": [
      "students = ['Ram', 'Shyam', 'Deepak', 'Amit']\n",
      "Marks = [70, 75, 81, 61]\n"
     ]
    }
   ],
   "source": [
    "my_kwargs(students=['Ram','Shyam','Deepak','Amit'],Marks=[70,75,81,61])"
   ]
  },
  {
   "cell_type": "code",
   "execution_count": 10,
   "id": "bab214bd",
   "metadata": {},
   "outputs": [
    {
     "name": "stdout",
     "output_type": "stream",
     "text": [
      "This Batch Rocks\n"
     ]
    },
    {
     "data": {
      "text/plain": [
       "'Ti ac ok'"
      ]
     },
     "execution_count": 10,
     "metadata": {},
     "output_type": "execute_result"
    }
   ],
   "source": [
    "s='This Batch Rocks'\n",
    "print(s)\n",
    "s[2:9]\n",
    "s[-1]\n",
    "s[::2]"
   ]
  },
  {
   "cell_type": "code",
   "execution_count": 14,
   "id": "dc672d3d",
   "metadata": {},
   "outputs": [],
   "source": [
    "def grace_marks(marks):\n",
    "    if marks==31:\n",
    "        return(marks+2)\n",
    "    elif marks==32:\n",
    "        return(marks+1)\n",
    "    else:\n",
    "        return marks"
   ]
  },
  {
   "cell_type": "code",
   "execution_count": 15,
   "id": "0a0bc313",
   "metadata": {},
   "outputs": [],
   "source": [
    "score=[50,34,32,33,31,35]"
   ]
  },
  {
   "cell_type": "code",
   "execution_count": 16,
   "id": "1cf2e435",
   "metadata": {},
   "outputs": [
    {
     "name": "stdout",
     "output_type": "stream",
     "text": [
      "[50, 34, 33, 33, 33, 35]\n"
     ]
    }
   ],
   "source": [
    "total=list(map(grace_marks,score))\n",
    "print(total)"
   ]
  },
  {
   "cell_type": "code",
   "execution_count": 17,
   "id": "71faacb0",
   "metadata": {},
   "outputs": [],
   "source": [
    "def filter_marks(marks):\n",
    "    if marks <35:\n",
    "        return marks"
   ]
  },
  {
   "cell_type": "code",
   "execution_count": 18,
   "id": "35e93a4e",
   "metadata": {},
   "outputs": [],
   "source": [
    "score=[50,34,32,33,31,35]"
   ]
  },
  {
   "cell_type": "code",
   "execution_count": 19,
   "id": "6df8f62c",
   "metadata": {},
   "outputs": [
    {
     "data": {
      "text/plain": [
       "[34, 32, 33, 31]"
      ]
     },
     "execution_count": 19,
     "metadata": {},
     "output_type": "execute_result"
    }
   ],
   "source": [
    "failed=list(filter(filter_marks,score))\n",
    "failed"
   ]
  },
  {
   "cell_type": "code",
   "execution_count": 20,
   "id": "c7012543",
   "metadata": {},
   "outputs": [
    {
     "data": {
      "text/plain": [
       "[False, True, False, True]"
      ]
     },
     "execution_count": 20,
     "metadata": {},
     "output_type": "execute_result"
    }
   ],
   "source": [
    "list(map(lambda var:var%2==0,[1,2,3,4]))"
   ]
  },
  {
   "cell_type": "code",
   "execution_count": 21,
   "id": "1e86ddb8",
   "metadata": {},
   "outputs": [
    {
     "data": {
      "text/plain": [
       "[2, 4]"
      ]
     },
     "execution_count": 21,
     "metadata": {},
     "output_type": "execute_result"
    }
   ],
   "source": [
    "list(filter(lambda var:var%2==0,[1,2,3,4]))"
   ]
  },
  {
   "cell_type": "code",
   "execution_count": 1,
   "id": "6a75667d",
   "metadata": {},
   "outputs": [
    {
     "name": "stdout",
     "output_type": "stream",
     "text": [
      "time.struct_time(tm_year=2024, tm_mon=9, tm_mday=10, tm_hour=14, tm_min=11, tm_sec=12, tm_wday=1, tm_yday=254, tm_isdst=0)\n"
     ]
    }
   ],
   "source": [
    "import time\n",
    "result=time.localtime()\n",
    "print(result)"
   ]
  },
  {
   "cell_type": "code",
   "execution_count": 2,
   "id": "82347f26",
   "metadata": {},
   "outputs": [
    {
     "name": "stdout",
     "output_type": "stream",
     "text": [
      "Uth ja bhai\n"
     ]
    }
   ],
   "source": [
    "while True:\n",
    "    result=time.localtime()\n",
    "    if result.tm_hour==14 and result.tm_min==14:\n",
    "        print('Uth ja bhai')\n",
    "        break"
   ]
  },
  {
   "cell_type": "code",
   "execution_count": 5,
   "id": "516860ab",
   "metadata": {},
   "outputs": [],
   "source": [
    "def greeting(name):\n",
    "    print('Kya Haal Hai',name)"
   ]
  },
  {
   "cell_type": "code",
   "execution_count": 6,
   "id": "74cfc15a",
   "metadata": {},
   "outputs": [
    {
     "name": "stdout",
     "output_type": "stream",
     "text": [
      "Kya Haal Hai paras\n"
     ]
    }
   ],
   "source": [
    "greeting('paras')"
   ]
  },
  {
   "cell_type": "code",
   "execution_count": 7,
   "id": "4f2880bd",
   "metadata": {},
   "outputs": [],
   "source": [
    "def hello():\n",
    "    print('this is just a sample')"
   ]
  },
  {
   "cell_type": "code",
   "execution_count": 9,
   "id": "4646b22c",
   "metadata": {},
   "outputs": [
    {
     "name": "stdout",
     "output_type": "stream",
     "text": [
      "this is just a sample\n"
     ]
    }
   ],
   "source": [
    "hello()"
   ]
  },
  {
   "cell_type": "code",
   "execution_count": 10,
   "id": "df57cd7e",
   "metadata": {},
   "outputs": [],
   "source": [
    "#without return\n",
    "def sal_inc(fixed_sal, house_rent):\n",
    "    total_sal=(fixed_sal+house_rent)\n",
    "    if total_sal<=9000:\n",
    "        total_sal+1000\n",
    "    else:\n",
    "        total_sal"
   ]
  },
  {
   "cell_type": "code",
   "execution_count": 11,
   "id": "e8501414",
   "metadata": {},
   "outputs": [
    {
     "name": "stdout",
     "output_type": "stream",
     "text": [
      "Your new salary= None\n"
     ]
    }
   ],
   "source": [
    "print('Your new salary=',sal_inc(6500,2000))"
   ]
  },
  {
   "cell_type": "code",
   "execution_count": 12,
   "id": "b8f1bc24",
   "metadata": {},
   "outputs": [],
   "source": [
    "#with return\n",
    "def sal_inc(fixed_sal,house_rent):\n",
    "    total_sal=(fixed_sal+house_rent)\n",
    "    if total_sal<=9000:\n",
    "        return total_sal+1000\n",
    "    else:\n",
    "        return total_sal"
   ]
  },
  {
   "cell_type": "code",
   "execution_count": 13,
   "id": "9b5fd1fb",
   "metadata": {},
   "outputs": [
    {
     "name": "stdout",
     "output_type": "stream",
     "text": [
      "Your new salary = 9500\n"
     ]
    }
   ],
   "source": [
    "print('Your new salary =',sal_inc(6500,2000))"
   ]
  },
  {
   "cell_type": "code",
   "execution_count": 14,
   "id": "5f4f4b54",
   "metadata": {},
   "outputs": [
    {
     "name": "stdout",
     "output_type": "stream",
     "text": [
      "80\n"
     ]
    }
   ],
   "source": [
    "#Lambda Function\n",
    "add_num= lambda y:y+30\n",
    "print(add_num(50))"
   ]
  },
  {
   "cell_type": "code",
   "execution_count": 15,
   "id": "c1f85c8b",
   "metadata": {},
   "outputs": [
    {
     "name": "stdout",
     "output_type": "stream",
     "text": [
      "300\n"
     ]
    }
   ],
   "source": [
    "multi_num=lambda a,b:a*b\n",
    "print(multi_num(15,20))"
   ]
  },
  {
   "cell_type": "code",
   "execution_count": 16,
   "id": "a56ee8e5",
   "metadata": {},
   "outputs": [],
   "source": [
    "def my_fun(*args):\n",
    "    for i in args:\n",
    "        print('My args:-',i)\n",
    "        "
   ]
  },
  {
   "cell_type": "code",
   "execution_count": 17,
   "id": "1b303816",
   "metadata": {},
   "outputs": [
    {
     "name": "stdout",
     "output_type": "stream",
     "text": [
      "My args:- India\n",
      "My args:- Kerela\n",
      "My args:- Delhi\n",
      "My args:- 55348\n"
     ]
    }
   ],
   "source": [
    "my_fun('India','Kerela','Delhi',55348)"
   ]
  },
  {
   "cell_type": "code",
   "execution_count": 18,
   "id": "b0792847",
   "metadata": {},
   "outputs": [],
   "source": [
    "def my_kwargs (**kwargs):\n",
    "    for key, value in kwargs.items():\n",
    "        print(key,'=',value)"
   ]
  },
  {
   "cell_type": "code",
   "execution_count": 19,
   "id": "7c568ccf",
   "metadata": {},
   "outputs": [
    {
     "name": "stdout",
     "output_type": "stream",
     "text": [
      "students = ['Ram', 'Shyam']\n",
      "Marks = [70, 75]\n"
     ]
    }
   ],
   "source": [
    "my_kwargs(students=['Ram','Shyam'],Marks=[70,75])"
   ]
  },
  {
   "cell_type": "code",
   "execution_count": 23,
   "id": "b0638256",
   "metadata": {},
   "outputs": [],
   "source": [
    "def grace_marks(marks):\n",
    "    if marks==31:\n",
    "        return(marks+2)\n",
    "    elif marks==32:\n",
    "        return(marks+1)\n",
    "    else:\n",
    "        return marks"
   ]
  },
  {
   "cell_type": "code",
   "execution_count": 24,
   "id": "7e32b7d4",
   "metadata": {},
   "outputs": [],
   "source": [
    "score=[50,34,32,33,31,35]"
   ]
  },
  {
   "cell_type": "code",
   "execution_count": 25,
   "id": "f3abb7b3",
   "metadata": {},
   "outputs": [
    {
     "name": "stdout",
     "output_type": "stream",
     "text": [
      "[50, 34, 33, 33, 33, 35]\n"
     ]
    }
   ],
   "source": [
    "total=list(map(grace_marks,score))\n",
    "print(total)"
   ]
  },
  {
   "cell_type": "code",
   "execution_count": 26,
   "id": "63ff4d30",
   "metadata": {},
   "outputs": [],
   "source": [
    "def filter_marks(marks):\n",
    "    if marks<33:\n",
    "        return marks"
   ]
  },
  {
   "cell_type": "code",
   "execution_count": 27,
   "id": "d41fca5f",
   "metadata": {},
   "outputs": [],
   "source": [
    "score=[50,34,32,33,31,35]"
   ]
  },
  {
   "cell_type": "code",
   "execution_count": 28,
   "id": "e5628c94",
   "metadata": {},
   "outputs": [
    {
     "data": {
      "text/plain": [
       "[32, 31]"
      ]
     },
     "execution_count": 28,
     "metadata": {},
     "output_type": "execute_result"
    }
   ],
   "source": [
    "failed=list(filter(filter_marks,score))\n",
    "failed"
   ]
  },
  {
   "cell_type": "code",
   "execution_count": 29,
   "id": "2c6aa0a1",
   "metadata": {},
   "outputs": [
    {
     "data": {
      "text/plain": [
       "[False, True, False, True]"
      ]
     },
     "execution_count": 29,
     "metadata": {},
     "output_type": "execute_result"
    }
   ],
   "source": [
    "list(map(lambda var:var%2==0,[1,2,3,4]))"
   ]
  },
  {
   "cell_type": "code",
   "execution_count": 30,
   "id": "5e05bdb6",
   "metadata": {},
   "outputs": [
    {
     "data": {
      "text/plain": [
       "[2, 4]"
      ]
     },
     "execution_count": 30,
     "metadata": {},
     "output_type": "execute_result"
    }
   ],
   "source": [
    "list(filter(lambda var:var%2==0,[1,2,3,4]))"
   ]
  },
  {
   "cell_type": "code",
   "execution_count": 33,
   "id": "69729000",
   "metadata": {},
   "outputs": [],
   "source": [
    "extra_marks=10\n",
    "def tol_score_glob():\n",
    "    print(\"Print inside fuction & total is\",35+extra_marks)\n",
    "    tol_score_globe()"
   ]
  },
  {
   "cell_type": "code",
   "execution_count": 34,
   "id": "e9f9bb36",
   "metadata": {},
   "outputs": [
    {
     "name": "stdout",
     "output_type": "stream",
     "text": [
      "print outside the function and total is 45\n"
     ]
    }
   ],
   "source": [
    "print(\"print outside the function and total is\",35+extra_marks)"
   ]
  },
  {
   "cell_type": "code",
   "execution_count": 38,
   "id": "4037ae3a",
   "metadata": {},
   "outputs": [
    {
     "name": "stdout",
     "output_type": "stream",
     "text": [
      "print inside finction and total is 100\n"
     ]
    }
   ],
   "source": [
    "def tol_score_loc():\n",
    "    some_marks=50\n",
    "    print(\"print inside finction and total is\",50+some_marks)\n",
    "tol_score_loc()"
   ]
  },
  {
   "cell_type": "code",
   "execution_count": null,
   "id": "712e734a",
   "metadata": {},
   "outputs": [],
   "source": [
    "print(\"Print inside finction and total is\",50+some_marks)"
   ]
  },
  {
   "cell_type": "code",
   "execution_count": 43,
   "id": "20a15435",
   "metadata": {},
   "outputs": [],
   "source": [
    "def local_global():\n",
    "    global var12\n",
    "    var12=\"This is Fantastic\"\n",
    "    print(var12)"
   ]
  },
  {
   "cell_type": "code",
   "execution_count": 44,
   "id": "72906e85",
   "metadata": {
    "scrolled": true
   },
   "outputs": [
    {
     "name": "stdout",
     "output_type": "stream",
     "text": [
      "This is Fantastic\n"
     ]
    }
   ],
   "source": [
    "local_global()"
   ]
  },
  {
   "cell_type": "code",
   "execution_count": null,
   "id": "7583cbf0",
   "metadata": {},
   "outputs": [],
   "source": [
    "count=0\n",
    "while count<10:\n",
    "    count= count+1\n",
    "    print(count,'Jesus')"
   ]
  },
  {
   "cell_type": "code",
   "execution_count": null,
   "id": "460ae5c3",
   "metadata": {},
   "outputs": [],
   "source": []
  }
 ],
 "metadata": {
  "kernelspec": {
   "display_name": "Python 3 (ipykernel)",
   "language": "python",
   "name": "python3"
  },
  "language_info": {
   "codemirror_mode": {
    "name": "ipython",
    "version": 3
   },
   "file_extension": ".py",
   "mimetype": "text/x-python",
   "name": "python",
   "nbconvert_exporter": "python",
   "pygments_lexer": "ipython3",
   "version": "3.11.5"
  }
 },
 "nbformat": 4,
 "nbformat_minor": 5
}
